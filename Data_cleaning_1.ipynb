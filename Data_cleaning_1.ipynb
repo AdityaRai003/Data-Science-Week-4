{
  "cells": [
    {
      "cell_type": "markdown",
      "metadata": {
        "id": "DHrPpfzOgf_Y"
      },
      "source": [
        "# Cleaning Data in Python"
      ]
    },
    {
      "cell_type": "code",
      "source": [
        "Num, Name = input(\"Reg. Number:\"), input(\"Name:\")"
      ],
      "metadata": {
        "id": "0aGLsGRFsxei"
      },
      "execution_count": null,
      "outputs": []
    },
    {
      "cell_type": "code",
      "source": [
        "# Import pandas"
      ],
      "metadata": {
        "id": "NA8dgzKnmmt5"
      },
      "execution_count": null,
      "outputs": []
    },
    {
      "cell_type": "code",
      "source": [
        "# Read the file named 'dob_job_application_filings_subset.csv' into a DataFrame: df"
      ],
      "metadata": {
        "id": "cUZm5C-lmpTU"
      },
      "execution_count": null,
      "outputs": []
    },
    {
      "cell_type": "code",
      "source": [
        "# Print the head of df"
      ],
      "metadata": {
        "id": "_tSTL8W6mxQz"
      },
      "execution_count": null,
      "outputs": []
    },
    {
      "cell_type": "code",
      "source": [
        "# Print the tail of df"
      ],
      "metadata": {
        "id": "xylWF9uIm1jI"
      },
      "execution_count": null,
      "outputs": []
    },
    {
      "cell_type": "code",
      "source": [
        "# Print the shape of df"
      ],
      "metadata": {
        "id": "NpNQvleEm46F"
      },
      "execution_count": null,
      "outputs": []
    },
    {
      "cell_type": "code",
      "source": [
        "# Print the columns of df"
      ],
      "metadata": {
        "id": "LTHQxCidm7sH"
      },
      "execution_count": null,
      "outputs": []
    },
    {
      "cell_type": "code",
      "execution_count": null,
      "metadata": {
        "id": "cgV7qLPGgf_c"
      },
      "outputs": [],
      "source": [
        "# Subset the df with the following columns 'Job #', 'Doc #', 'Borough', 'Initial Cost', 'Total Est. Fee',\n",
        "# 'Existing Zoning Sqft', 'Proposed Zoning Sqft','Enlargement SQ Footage', 'Street Frontage', 'ExistingNo. of Stories',\n",
        "# 'Proposed No. of Stories', 'Existing Height', 'Proposed Height'"
      ]
    },
    {
      "cell_type": "code",
      "execution_count": null,
      "metadata": {
        "id": "AtQcXbpAgf_d"
      },
      "outputs": [],
      "source": [
        "# Print the head and tail of df_subset"
      ]
    },
    {
      "cell_type": "code",
      "execution_count": null,
      "metadata": {
        "id": "cw5Nis0Xgf_d"
      },
      "outputs": [],
      "source": [
        "# Print the shape of the subset file"
      ]
    },
    {
      "cell_type": "code",
      "source": [
        "# Print the info of df"
      ],
      "metadata": {
        "id": "QcfV5vBip7Ah"
      },
      "execution_count": null,
      "outputs": []
    },
    {
      "cell_type": "code",
      "source": [
        "# Print the info of df"
      ],
      "metadata": {
        "id": "eeC40AL7qSqE"
      },
      "execution_count": null,
      "outputs": []
    },
    {
      "cell_type": "code",
      "execution_count": null,
      "metadata": {
        "id": "dcI1sNIZgf_e"
      },
      "outputs": [],
      "source": [
        "# Print the value counts for 'Borough'"
      ]
    },
    {
      "cell_type": "code",
      "execution_count": null,
      "metadata": {
        "id": "hd5izJThgf_e"
      },
      "outputs": [],
      "source": [
        "# Print the value counts for 'Borough'"
      ]
    },
    {
      "cell_type": "code",
      "source": [
        "# Print the value_counts for 'State'"
      ],
      "metadata": {
        "id": "fpRUF43sqj5F"
      },
      "execution_count": null,
      "outputs": []
    },
    {
      "cell_type": "code",
      "source": [
        "# Print the value counts for 'Site Fill'"
      ],
      "metadata": {
        "id": "4_Jc7hd3qn8O"
      },
      "execution_count": null,
      "outputs": []
    },
    {
      "cell_type": "code",
      "source": [
        "# Import matplotlib.pyplot"
      ],
      "metadata": {
        "id": "WVhD_JWSqsVG"
      },
      "execution_count": null,
      "outputs": []
    },
    {
      "cell_type": "code",
      "source": [
        "# Plot and dispaly the histogram for the column named 'Existing Zoning Sqft'"
      ],
      "metadata": {
        "id": "FUI6hElCquU9"
      },
      "execution_count": null,
      "outputs": []
    },
    {
      "cell_type": "code",
      "execution_count": null,
      "metadata": {
        "id": "mqGpUL_Ogf_f"
      },
      "outputs": [],
      "source": [
        "# apply describe function on 'Existing Zoning Sqft' column"
      ]
    },
    {
      "cell_type": "markdown",
      "metadata": {
        "id": "tem0J_EUgf_f"
      },
      "source": [
        "### Visualizing multiple variables with boxplots"
      ]
    },
    {
      "cell_type": "code",
      "execution_count": null,
      "metadata": {
        "id": "OPBL2QeKgf_g"
      },
      "outputs": [],
      "source": [
        "# Create and display the boxplot on 'Initial Cost' vs  'Borough'"
      ]
    },
    {
      "cell_type": "markdown",
      "metadata": {
        "id": "HPXmFkIIgf_h"
      },
      "source": [
        "### Visualizing multiple variables with scatter plots"
      ]
    },
    {
      "cell_type": "code",
      "execution_count": null,
      "metadata": {
        "id": "ti5Tefwqgf_h"
      },
      "outputs": [],
      "source": [
        "# Create and display the first scatter plot on 'initial_cost' vs'total_est_fee'"
      ]
    },
    {
      "cell_type": "markdown",
      "source": [
        "For uploading you need to execute the follwing script"
      ],
      "metadata": {
        "id": "NPrwXWf1s6OV"
      }
    },
    {
      "cell_type": "code",
      "source": [
        "from google.colab import auth\n",
        "auth.authenticate_user()\n",
        "import requests\n",
        "gcloud_token = !gcloud auth print-access-token\n",
        "gcloud_tokeninfo = requests.get('https://www.googleapis.com/oauth2/v3/tokeninfo?access_token=' + gcloud_token[0]).json()\n",
        "user = gcloud_tokeninfo['email']\n",
        "import datetime\n",
        "dt = datetime.datetime.now()\n",
        "x = str(dt).split('.')[0]\n",
        "print(f\"This Script is executed by: \",user, \"at\", x)"
      ],
      "metadata": {
        "id": "91_9Qv2hszlw"
      },
      "execution_count": null,
      "outputs": []
    },
    {
      "cell_type": "markdown",
      "source": [
        "Congratulations! you have reached to the end of the work sheet\n",
        "go to file and print as PDF and upload the PDF it into MS Teams Link"
      ],
      "metadata": {
        "id": "llzKqoi8s8EH"
      }
    }
  ],
  "metadata": {
    "kernelspec": {
      "display_name": "Python 3",
      "language": "python",
      "name": "python3"
    },
    "language_info": {
      "codemirror_mode": {
        "name": "ipython",
        "version": 3
      },
      "file_extension": ".py",
      "mimetype": "text/x-python",
      "name": "python",
      "nbconvert_exporter": "python",
      "pygments_lexer": "ipython3",
      "version": "3.5.4"
    },
    "colab": {
      "provenance": []
    }
  },
  "nbformat": 4,
  "nbformat_minor": 0
}